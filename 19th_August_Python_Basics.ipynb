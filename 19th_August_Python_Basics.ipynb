{
 "cells": [
  {
   "cell_type": "markdown",
   "id": "c6f044f9",
   "metadata": {},
   "source": [
    "# 1. Declare two variable, \"X\" and \"Y\", and assign them intiger values. swap the values of these variable without any temporary variables.\n"
   ]
  },
  {
   "cell_type": "code",
   "execution_count": 1,
   "id": "df7356f5",
   "metadata": {},
   "outputs": [
    {
     "name": "stdout",
     "output_type": "stream",
     "text": [
      "values before swapping x and y:\n",
      "x= 100\n",
      "y= 200\n",
      "values after swapping x and y:\n",
      "x= 200\n",
      "y= 100\n"
     ]
    }
   ],
   "source": [
    "print(\"values before swapping x and y:\")\n",
    "x=100\n",
    "y=200\n",
    "print(\"x=\",x)\n",
    "print(\"y=\",y)\n",
    "print(\"values after swapping x and y:\")\n",
    "temp=100\n",
    "x=200\n",
    "y=temp\n",
    "print(\"x=\",x)\n",
    "print(\"y=\",y)\n",
    "\n"
   ]
  },
  {
   "cell_type": "markdown",
   "id": "e2324ac9",
   "metadata": {},
   "source": [
    "# 2. create python program theat calculates the area of reactangle. take the length and width of as input from the user and store them in a variables. calculate and display the area.\n"
   ]
  },
  {
   "cell_type": "code",
   "execution_count": 2,
   "id": "4b260436",
   "metadata": {},
   "outputs": [
    {
     "name": "stdout",
     "output_type": "stream",
     "text": [
      "calculate  the area of rectangle\n",
      "enter the first number:10\n",
      "enter the second number:20\n",
      "aera= 200\n"
     ]
    }
   ],
   "source": [
    "print(\"calculate  the area of rectangle\")\n",
    "length=int(input(\"enter the first number:\"))\n",
    "width=int(input(\"enter the second number:\"))\n",
    "area=length*width\n",
    "print(\"aera=\",area)\n",
    "\n"
   ]
  },
  {
   "cell_type": "markdown",
   "id": "188fd0a5",
   "metadata": {},
   "source": [
    "# 3. Write a python program that convert tenpreture from celcius to fahrenheit. take a tempreture in celcius, store in a variable, convert it to fahrenheit, and display the result.\n"
   ]
  },
  {
   "cell_type": "code",
   "execution_count": 3,
   "id": "05852870",
   "metadata": {},
   "outputs": [
    {
     "name": "stdout",
     "output_type": "stream",
     "text": [
      "enter thempreture in celcius:28\n",
      "\n",
      "temreture in fahrenheit : 82.4\n"
     ]
    }
   ],
   "source": [
    "# the convert tempreture from celcius to fahrenheit.\n",
    "celcius=float(input(\"enter thempreture in celcius:\"))\n",
    "# conversion formula for celcius to fahrenheit: fahrenheit =(celcius * 9/5)+35\n",
    "fahrenheit = (celcius * 9/5) +32\n",
    "print('\\ntemreture in fahrenheit :',fahrenheit)\n",
    "\n"
   ]
  },
  {
   "cell_type": "markdown",
   "id": "e6715d08",
   "metadata": {},
   "source": [
    "# TOPIC : String Base Question\n"
   ]
  },
  {
   "cell_type": "markdown",
   "id": "9c2af6d1",
   "metadata": {},
   "source": [
    "# 1. Write a python program that takes a string as a input and prints the length of string."
   ]
  },
  {
   "cell_type": "markdown",
   "id": "3815bb14",
   "metadata": {},
   "source": [
    "\n",
    "\n"
   ]
  },
  {
   "cell_type": "code",
   "execution_count": 5,
   "id": "51b53027",
   "metadata": {},
   "outputs": [
    {
     "name": "stdout",
     "output_type": "stream",
     "text": [
      "Enter the string: DEVYANI\n",
      "Length of the string: 7\n"
     ]
    }
   ],
   "source": [
    "#calculate the length of the string.\n",
    "string=input(\"Enter the string: \")\n",
    "string_length = len(string)\n",
    "print(\"Length of the string:\",string_length)\n",
    "\n"
   ]
  },
  {
   "cell_type": "markdown",
   "id": "e4731027",
   "metadata": {},
   "source": [
    "# 2. Create a program that takes a sentence from the user and counts the number of vowels (a,e,i,o,u) in the string.\n"
   ]
  },
  {
   "cell_type": "code",
   "execution_count": 8,
   "id": "eb5d498b",
   "metadata": {},
   "outputs": [
    {
     "name": "stdout",
     "output_type": "stream",
     "text": [
      "enter the string:pwskills\n",
      "count of vovels in the given string: 1\n"
     ]
    }
   ],
   "source": [
    "#counts number of vovels\n",
    "str1 = input(\"enter the string:\")\n",
    "str1_lowers = str1.lower()\n",
    "vovels = \"aeiou\"\n",
    "count=0\n",
    "for i in str1_lowers:\n",
    "    if i in vovels:\n",
    "        count=count+1\n",
    "        \n",
    "print(\"count of vovels in the given string:\",count)\n",
    "\n"
   ]
  },
  {
   "cell_type": "markdown",
   "id": "db8c05e2",
   "metadata": {},
   "source": [
    "# 3.Given a string, reverse the order of characters using string slicing and print the reversed string.\n"
   ]
  },
  {
   "cell_type": "code",
   "execution_count": 9,
   "id": "f2de3fba",
   "metadata": {},
   "outputs": [
    {
     "name": "stdout",
     "output_type": "stream",
     "text": [
      " \n",
      ":\n",
      "s\n",
      "l\n",
      "l\n",
      "i\n",
      "k\n",
      "s\n",
      "w\n",
      "p\n"
     ]
    }
   ],
   "source": [
    "#Reversed string\n",
    "str=(\"pwskills: \")\n",
    "x=len(str)\n",
    "for i in range(x-1,-1,-1):\n",
    "    print(str[i])\n",
    "    \n",
    "    "
   ]
  },
  {
   "cell_type": "markdown",
   "id": "237e72b9",
   "metadata": {},
   "source": [
    "# 4. Write a program that takes a string as input and checks if it is a palindrome (reads the same forwards and backwards.)"
   ]
  },
  {
   "cell_type": "code",
   "execution_count": 10,
   "id": "46d13ae2",
   "metadata": {},
   "outputs": [
    {
     "name": "stdout",
     "output_type": "stream",
     "text": [
      "enter string:pwskills\n",
      "string is palindrome\n"
     ]
    }
   ],
   "source": [
    "# program to check a string is palindrome\n",
    "x=input(\"enter string:\")\n",
    "y=x[-1::-1]\n",
    "if(\"x==y\"):\n",
    "    print(\"string is palindrome\")\n",
    "else:\n",
    "    print(\"string is not palindrome\")\n",
    "    "
   ]
  },
  {
   "cell_type": "markdown",
   "id": "8e7e9e03",
   "metadata": {},
   "source": [
    "# 5. Create a program that takes a string as input and removes all the spaces from it. Print the modified string without spaces.\n"
   ]
  },
  {
   "cell_type": "code",
   "execution_count": 11,
   "id": "8437b108",
   "metadata": {},
   "outputs": [
    {
     "name": "stdout",
     "output_type": "stream",
     "text": [
      "enter a string:pwskills\n",
      "modified string without spaces: pwskills\n"
     ]
    }
   ],
   "source": [
    "def remove_spaces(input_string):\n",
    "    modified_string = input_string.replace(\" \",\"\")\n",
    "    return modified_string\n",
    "\n",
    "user_input = input(\"enter a string:\")\n",
    "modified_string = remove_spaces(user_input)\n",
    "print(\"modified string without spaces:\",modified_string)\n",
    "\n"
   ]
  },
  {
   "cell_type": "code",
   "execution_count": null,
   "id": "32bee3c5",
   "metadata": {},
   "outputs": [],
   "source": []
  }
 ],
 "metadata": {
  "kernelspec": {
   "display_name": "Python 3 (ipykernel)",
   "language": "python",
   "name": "python3"
  },
  "language_info": {
   "codemirror_mode": {
    "name": "ipython",
    "version": 3
   },
   "file_extension": ".py",
   "mimetype": "text/x-python",
   "name": "python",
   "nbconvert_exporter": "python",
   "pygments_lexer": "ipython3",
   "version": "3.11.4"
  }
 },
 "nbformat": 4,
 "nbformat_minor": 5
}
